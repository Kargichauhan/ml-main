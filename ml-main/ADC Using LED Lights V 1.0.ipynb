{
 "cells": [
  {
   "cell_type": "code",
   "execution_count": 1,
   "id": "26c38aac",
   "metadata": {},
   "outputs": [],
   "source": [
    "from scipy.spatial.transform import Rotation as R\n",
    "import numpy as np"
   ]
  },
  {
   "cell_type": "code",
   "execution_count": 2,
   "id": "e3b644a2",
   "metadata": {},
   "outputs": [],
   "source": [
    "class cubesat:\n",
    "   def __init__(self, designation):\n",
    "    \"\"\"\n",
    "    Generates a CubeSat with a Designation as User Specified, '1U' or '3U' or '6U', etc.\n",
    "    Make the vertices of the CubeSat\"\"\"\n",
    "\n",
    "    self.designation = designation\n",
    "\n",
    "    if designation == '1U':\n",
    "      self.vertices = np.array([[0, 0, 0],[10, 0, 0],[10, 10, 0],[0, 10, 0],[0, 0, 10],[10, 0, 10],[10, 10, 10],[0, 10, 10]])\n",
    "\n",
    "    if designation == '3U':\n",
    "      self.vertices = np.array([[0, 0, 0],[10, 0, 0],[10, 10, 0],[0, 10, 0],[0, 0, 30],[10, 0, 30],[10, 10, 30],[0, 10, 30]])\n",
    "    \n",
    "   def get_vertices(self):\n",
    "     self.vertex_1 = self.vertices[0]\n",
    "     self.vertex_2 = self.vertices[1]\n",
    "     self.vertex_3 = self.vertices[2]\n",
    "     self.vertex_4 = self.vertices[3]\n",
    "     self.vertex_5 = self.vertices[4]\n",
    "     self.vertex_6 = self.vertices[5]\n",
    "     self.vertex_7 = self.vertices[6]\n",
    "     self.vertex_8 = self.vertices[7]\n",
    "\n",
    "   def get_edges(self):\n",
    "     self.edge_1to2 = self.vertex_2 - self.vertex_1\n",
    "     self.edge_2to3 = self.vertex_3 - self.vertex_2\n",
    "     self.edge_3to4 = self.vertex_4 - self.vertex_3\n",
    "     self.edge_4to1 = self.vertex_1 - self.vertex_4\n",
    "     self.edge_5to6 = self.vertex_6 - self.vertex_5\n",
    "     self.edge_6to7 = self.vertex_7 - self.vertex_6\n",
    "     self.edge_7to8 = self.vertex_8 - self.vertex_7\n",
    "     self.edge_8to5 = self.vertex_5 - self.vertex_8\n",
    "     self.edge_1to5 = self.vertex_5 - self.vertex_1\n",
    "     self.edge_2to6 = self.vertex_6 - self.vertex_2\n",
    "     self.edge_3to7 = self.vertex_7 - self.vertex_3\n",
    "     self.edge_4to8 = self.vertex_8 - self.vertex_4\n",
    "     \n",
    "   def rotate(self, body_frame_vector,angle_degrees):\n",
    "    pass"
   ]
  },
  {
   "cell_type": "code",
   "execution_count": 3,
   "id": "573598f1",
   "metadata": {},
   "outputs": [
    {
     "name": "stdout",
     "output_type": "stream",
     "text": [
      "[[ 0  0  0]\n",
      " [10  0  0]\n",
      " [10 10  0]\n",
      " [ 0 10  0]\n",
      " [ 0  0 10]\n",
      " [10  0 10]\n",
      " [10 10 10]\n",
      " [ 0 10 10]]\n"
     ]
    }
   ],
   "source": [
    "a = cubesat('1U')\n",
    "print(a.vertices)"
   ]
  },
  {
   "cell_type": "code",
   "execution_count": 4,
   "id": "723cfb3e",
   "metadata": {},
   "outputs": [
    {
     "data": {
      "text/plain": [
       "array([[1., 0., 0.],\n",
       "       [0., 1., 0.],\n",
       "       [0., 0., 1.]])"
      ]
     },
     "execution_count": 4,
     "metadata": {},
     "output_type": "execute_result"
    }
   ],
   "source": [
    "b = np.eye(3)\n",
    "b"
   ]
  },
  {
   "cell_type": "code",
   "execution_count": 5,
   "id": "d8cacdbb",
   "metadata": {},
   "outputs": [
    {
     "data": {
      "text/plain": [
       "array([[ 0., 10., 10.,  0.,  0., 10., 10.,  0.],\n",
       "       [ 0.,  0., 10., 10.,  0.,  0., 10., 10.],\n",
       "       [ 0.,  0.,  0.,  0., 10., 10., 10., 10.]])"
      ]
     },
     "execution_count": 5,
     "metadata": {},
     "output_type": "execute_result"
    }
   ],
   "source": [
    "c = b @ a.vertices.T\n",
    "c"
   ]
  },
  {
   "cell_type": "code",
   "execution_count": 6,
   "id": "64f01d51",
   "metadata": {},
   "outputs": [
    {
     "data": {
      "text/plain": [
       "array([-10,   0,   0])"
      ]
     },
     "execution_count": 6,
     "metadata": {},
     "output_type": "execute_result"
    }
   ],
   "source": [
    "a.get_vertices()\n",
    "a.vertex_8 - a.vertex_7"
   ]
  },
  {
   "cell_type": "code",
   "execution_count": 9,
   "id": "dfeec41f",
   "metadata": {},
   "outputs": [],
   "source": [
    "from SpawnFunctions import *"
   ]
  },
  {
   "cell_type": "code",
   "execution_count": 10,
   "id": "7317033b",
   "metadata": {},
   "outputs": [
    {
     "name": "stdout",
     "output_type": "stream",
     "text": [
      "\n",
      "Testing the \"spawn_cameras\" function\n"
     ]
    },
    {
     "ename": "NameError",
     "evalue": "name 'spawn_cameras' is not defined",
     "output_type": "error",
     "traceback": [
      "\u001b[1;31m---------------------------------------------------------------------------\u001b[0m",
      "\u001b[1;31mNameError\u001b[0m                                 Traceback (most recent call last)",
      "Cell \u001b[1;32mIn[10], line 2\u001b[0m\n\u001b[0;32m      1\u001b[0m \u001b[38;5;28mprint\u001b[39m(\u001b[38;5;124m'\u001b[39m\u001b[38;5;130;01m\\n\u001b[39;00m\u001b[38;5;124mTesting the \u001b[39m\u001b[38;5;124m\"\u001b[39m\u001b[38;5;124mspawn_cameras\u001b[39m\u001b[38;5;124m\"\u001b[39m\u001b[38;5;124m function\u001b[39m\u001b[38;5;124m'\u001b[39m)\n\u001b[1;32m----> 2\u001b[0m list_of_cameras, dataframe \u001b[38;5;241m=\u001b[39m spawn_cameras(\n\u001b[0;32m      3\u001b[0m     wing_dimension\u001b[38;5;241m=\u001b[39m\u001b[38;5;241m500\u001b[39m,\n\u001b[0;32m      4\u001b[0m     no_of_telephotos\u001b[38;5;241m=\u001b[39m\u001b[38;5;241m4\u001b[39m,\n\u001b[0;32m      5\u001b[0m     telephoto_distribution\u001b[38;5;241m=\u001b[39m\u001b[38;5;241m2\u001b[39m,\n\u001b[0;32m      6\u001b[0m     no_of_mediumranges\u001b[38;5;241m=\u001b[39m\u001b[38;5;241m12\u001b[39m,\n\u001b[0;32m      7\u001b[0m     mediumrange_distribution\u001b[38;5;241m=\u001b[39m\u001b[38;5;241m50\u001b[39m,\n\u001b[0;32m      8\u001b[0m     no_of_wideangles\u001b[38;5;241m=\u001b[39m\u001b[38;5;241m30\u001b[39m,\n\u001b[0;32m      9\u001b[0m     wideangle_distribution\u001b[38;5;241m=\u001b[39m\u001b[38;5;241m100\u001b[39m,\n\u001b[0;32m     10\u001b[0m )\n\u001b[0;32m     11\u001b[0m dataframe\n",
      "\u001b[1;31mNameError\u001b[0m: name 'spawn_cameras' is not defined"
     ]
    }
   ],
   "source": [
    "print('\\nTesting the \"spawn_cameras\" function')\n",
    "list_of_cameras, dataframe = spawn_cameras(\n",
    "    wing_dimension=500,\n",
    "    no_of_telephotos=4,\n",
    "    telephoto_distribution=2,\n",
    "    no_of_mediumranges=12,\n",
    "    mediumrange_distribution=50,\n",
    "    no_of_wideangles=30,\n",
    "    wideangle_distribution=100,\n",
    ")\n",
    "dataframe"
   ]
  }
 ],
 "metadata": {
  "kernelspec": {
   "display_name": "base",
   "language": "python",
   "name": "python3"
  },
  "language_info": {
   "codemirror_mode": {
    "name": "ipython",
    "version": 3
   },
   "file_extension": ".py",
   "mimetype": "text/x-python",
   "name": "python",
   "nbconvert_exporter": "python",
   "pygments_lexer": "ipython3",
   "version": "3.11.4"
  },
  "vscode": {
   "interpreter": {
    "hash": "ad2bdc8ecc057115af97d19610ffacc2b4e99fae6737bb82f5d7fb13d2f2c186"
   }
  }
 },
 "nbformat": 4,
 "nbformat_minor": 5
}
